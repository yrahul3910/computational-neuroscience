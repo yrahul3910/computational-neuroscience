{
 "cells": [
  {
   "cell_type": "code",
   "execution_count": 1,
   "metadata": {},
   "outputs": [],
   "source": [
    "import numpy as np"
   ]
  },
  {
   "cell_type": "code",
   "execution_count": 2,
   "metadata": {},
   "outputs": [],
   "source": [
    "W = np.ones((5, 5)) * 0.1"
   ]
  },
  {
   "cell_type": "code",
   "execution_count": 3,
   "metadata": {},
   "outputs": [],
   "source": [
    "for i in range(5):\n",
    "    W[i][i] = 0.6"
   ]
  },
  {
   "cell_type": "code",
   "execution_count": 4,
   "metadata": {},
   "outputs": [
    {
     "data": {
      "text/plain": [
       "array([[0.6, 0.1, 0.1, 0.1, 0.1],\n",
       "       [0.1, 0.6, 0.1, 0.1, 0.1],\n",
       "       [0.1, 0.1, 0.6, 0.1, 0.1],\n",
       "       [0.1, 0.1, 0.1, 0.6, 0.1],\n",
       "       [0.1, 0.1, 0.1, 0.1, 0.6]])"
      ]
     },
     "execution_count": 4,
     "metadata": {},
     "output_type": "execute_result"
    }
   ],
   "source": [
    "W"
   ]
  },
  {
   "cell_type": "code",
   "execution_count": 5,
   "metadata": {},
   "outputs": [],
   "source": [
    "u = np.array([6, 5, 6, 2, 1]) / 10"
   ]
  },
  {
   "cell_type": "code",
   "execution_count": 6,
   "metadata": {},
   "outputs": [
    {
     "data": {
      "text/plain": [
       "array([0.6, 0.5, 0.6, 0.2, 0.1])"
      ]
     },
     "execution_count": 6,
     "metadata": {},
     "output_type": "execute_result"
    }
   ],
   "source": [
    "u"
   ]
  },
  {
   "cell_type": "code",
   "execution_count": 17,
   "metadata": {},
   "outputs": [],
   "source": [
    "M = np.array([\n",
    "    -1, 0, 1, 1, 0,\n",
    "    0, -1, 0, 1, 1,\n",
    "    1, 0, -1, 0, 1,\n",
    "    1, 1, 0, -1, 0,\n",
    "    0, 1, 1, 0, -1\n",
    "]) * 0.5"
   ]
  },
  {
   "cell_type": "code",
   "execution_count": 18,
   "metadata": {},
   "outputs": [],
   "source": [
    "M = M.reshape((5, 5))"
   ]
  },
  {
   "cell_type": "code",
   "execution_count": 19,
   "metadata": {},
   "outputs": [
    {
     "data": {
      "text/plain": [
       "array([[-0.5,  0. ,  0.5,  0.5,  0. ],\n",
       "       [ 0. , -0.5,  0. ,  0.5,  0.5],\n",
       "       [ 0.5,  0. , -0.5,  0. ,  0.5],\n",
       "       [ 0.5,  0.5,  0. , -0.5,  0. ],\n",
       "       [ 0. ,  0.5,  0.5,  0. , -0.5]])"
      ]
     },
     "execution_count": 19,
     "metadata": {},
     "output_type": "execute_result"
    }
   ],
   "source": [
    "M"
   ]
  },
  {
   "cell_type": "code",
   "execution_count": 20,
   "metadata": {},
   "outputs": [],
   "source": [
    "I = np.eye(5)\n",
    "I_M = I - M"
   ]
  },
  {
   "cell_type": "code",
   "execution_count": 21,
   "metadata": {},
   "outputs": [],
   "source": [
    "Wu = np.dot(W, u)"
   ]
  },
  {
   "cell_type": "markdown",
   "metadata": {},
   "source": [
    "The question asked for $\\textbf{v}_{ss}$, the steady-state voltage. This means that $\\frac{\\mathrm{d}\\textbf{v}}{\\mathrm{d}t}=0$. We have, \n",
    "$$\\begin{aligned} \\tau \\frac{\\mathrm{d}\\textbf{v}}{\\mathrm{d}t} &= -\\textbf{v}+W\\textbf{u}+M\\textbf{v} = 0 \\\\ \\textbf{v}_{ss} &= W\\textbf{u}+M\\textbf{v}_{ss} \\\\ I\\textbf{v}_{ss} &= W\\textbf{u}+M\\textbf{v}_{ss} \\\\ (I-M)\\textbf{v}_{ss} &= W\\textbf{u} \\\\ \\textbf{v}_{ss} &= (I-M)^{-1}W\\textbf{u} \\end{aligned}$$"
   ]
  },
  {
   "cell_type": "code",
   "execution_count": 22,
   "metadata": {},
   "outputs": [
    {
     "data": {
      "text/plain": [
       "array([0.87272727, 0.79090909, 0.86363636, 0.75454545, 0.71818182])"
      ]
     },
     "execution_count": 22,
     "metadata": {},
     "output_type": "execute_result"
    }
   ],
   "source": [
    "np.dot(np.linalg.inv(I_M), Wu)"
   ]
  },
  {
   "cell_type": "code",
   "execution_count": null,
   "metadata": {},
   "outputs": [],
   "source": []
  }
 ],
 "metadata": {
  "kernelspec": {
   "display_name": "Python 3",
   "language": "python",
   "name": "python3"
  },
  "language_info": {
   "codemirror_mode": {
    "name": "ipython",
    "version": 3
   },
   "file_extension": ".py",
   "mimetype": "text/x-python",
   "name": "python",
   "nbconvert_exporter": "python",
   "pygments_lexer": "ipython3",
   "version": "3.6.6"
  }
 },
 "nbformat": 4,
 "nbformat_minor": 2
}
